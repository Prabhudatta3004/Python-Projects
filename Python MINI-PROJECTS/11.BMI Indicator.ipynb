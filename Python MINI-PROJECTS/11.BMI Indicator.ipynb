{
 "cells": [
  {
   "cell_type": "code",
   "execution_count": 6,
   "metadata": {},
   "outputs": [
    {
     "name": "stdout",
     "output_type": "stream",
     "text": [
      "Enter your height in centimeters:170\n",
      "Enter your weight in kilograms:67\n",
      "Your Body Mass Index is:23.18339100346021\n",
      "you are Healthy\n"
     ]
    }
   ],
   "source": [
    "height=float(input(\"Enter your height in centimeters:\"))\n",
    "weight=float(input(\"Enter your weight in kilograms:\"))\n",
    "height=height/100\n",
    "BMI=weight/(height*height)\n",
    "print(f\"Your Body Mass Index is:{BMI}\")\n",
    "if(BMI>0):\n",
    "    if(BMI<=16):\n",
    "        print(\"you are severely underweight\")\n",
    "    elif(BMI<=18.5):\n",
    "        print(\"you are underweight\")\n",
    "    elif(BMI<=25):\n",
    "        print(\"you are Healthy\")\n",
    "    elif(BMI<=30):\n",
    "        print(\"you are overweight\")\n",
    "    else: \n",
    "        print(\"you are severely overweight\")\n",
    "else:(\"enter valid details\")\n"
   ]
  },
  {
   "cell_type": "code",
   "execution_count": null,
   "metadata": {},
   "outputs": [],
   "source": []
  }
 ],
 "metadata": {
  "kernelspec": {
   "display_name": "Python 3",
   "language": "python",
   "name": "python3"
  },
  "language_info": {
   "codemirror_mode": {
    "name": "ipython",
    "version": 3
   },
   "file_extension": ".py",
   "mimetype": "text/x-python",
   "name": "python",
   "nbconvert_exporter": "python",
   "pygments_lexer": "ipython3",
   "version": "3.7.1"
  }
 },
 "nbformat": 4,
 "nbformat_minor": 2
}
