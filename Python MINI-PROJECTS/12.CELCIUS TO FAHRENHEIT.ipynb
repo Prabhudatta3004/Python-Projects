{
 "cells": [
  {
   "cell_type": "code",
   "execution_count": 1,
   "metadata": {},
   "outputs": [
    {
     "name": "stdout",
     "output_type": "stream",
     "text": [
      "enter your temperature in fahrenheit:132\n",
      "55.55555555555556\n"
     ]
    }
   ],
   "source": [
    "def convert(s):\n",
    "    f = float(s)\n",
    "    c = (f - 32) * 5/9\n",
    "    return c\n",
    "s=float(input(\"enter your temperature in fahrenheit:\"))\n",
    "print(convert(s))"
   ]
  },
  {
   "cell_type": "code",
   "execution_count": null,
   "metadata": {},
   "outputs": [],
   "source": []
  }
 ],
 "metadata": {
  "kernelspec": {
   "display_name": "Python 3",
   "language": "python",
   "name": "python3"
  },
  "language_info": {
   "codemirror_mode": {
    "name": "ipython",
    "version": 3
   },
   "file_extension": ".py",
   "mimetype": "text/x-python",
   "name": "python",
   "nbconvert_exporter": "python",
   "pygments_lexer": "ipython3",
   "version": "3.7.1"
  }
 },
 "nbformat": 4,
 "nbformat_minor": 2
}
