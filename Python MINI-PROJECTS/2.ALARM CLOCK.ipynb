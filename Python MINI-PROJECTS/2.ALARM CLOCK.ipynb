{
 "cells": [
  {
   "cell_type": "markdown",
   "metadata": {},
   "source": [
    "# TO CREATE AN ALARM CLOCK"
   ]
  },
  {
   "cell_type": "code",
   "execution_count": 1,
   "metadata": {},
   "outputs": [],
   "source": [
    "import datetime as dt\n",
    "import playsound as ps"
   ]
  },
  {
   "cell_type": "code",
   "execution_count": null,
   "metadata": {},
   "outputs": [
    {
     "name": "stdout",
     "output_type": "stream",
     "text": [
      "Enter time for alarm in HH:MM::SS\n",
      "161214\n",
      "setting up alarm...\n"
     ]
    }
   ],
   "source": [
    "user_input=input(\"Enter time for alarm in HH:MM::SS\\n\")\n",
    "hour1=user_input[0:2]\n",
    "minute1=user_input[3:5]\n",
    "seconds1=user_input[6:8]\n",
    "period1=user_input[9:11].upper()\n",
    "print(\"setting up alarm...\")\n",
    "while True:\n",
    "    now= dt.datetime.now()\n",
    "    hour2=now.strftime(\"%I\")\n",
    "    minute2=now.strftime(\"%M\")\n",
    "    seconds2=now.strftime(\"%S\")\n",
    "    period2=now.strftime(\"%p\")\n",
    "    if(period1==period2):\n",
    "        if(hour1==hour2):\n",
    "            if(minute1==minute2):\n",
    "                if(seconds1==seconds2):\n",
    "                    print(\"Wake Up!\")\n",
    "                    playsound('audio.mp3')\n",
    "                    break"
   ]
  },
  {
   "cell_type": "code",
   "execution_count": null,
   "metadata": {},
   "outputs": [],
   "source": []
  }
 ],
 "metadata": {
  "kernelspec": {
   "display_name": "Python 3",
   "language": "python",
   "name": "python3"
  },
  "language_info": {
   "codemirror_mode": {
    "name": "ipython",
    "version": 3
   },
   "file_extension": ".py",
   "mimetype": "text/x-python",
   "name": "python",
   "nbconvert_exporter": "python",
   "pygments_lexer": "ipython3",
   "version": "3.7.1"
  }
 },
 "nbformat": 4,
 "nbformat_minor": 2
}
