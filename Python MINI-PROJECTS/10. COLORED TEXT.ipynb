{
 "cells": [
  {
   "cell_type": "code",
   "execution_count": 1,
   "metadata": {},
   "outputs": [
    {
     "name": "stdout",
     "output_type": "stream",
     "text": [
      "Hi My name is Prabhudatta Mishra I am your friend\n",
      "Hi My name is Prabhudatta Mishra\n",
      "Hi My name is Prabhudatta Mishra\n"
     ]
    }
   ],
   "source": [
    "import colorama\n",
    "from colorama import Fore, Back, Style\n",
    "colorama.init(autoreset=True)\n",
    "\n",
    "print(Fore.BLUE+Back.YELLOW+\"Hi My name is Prabhudatta Mishra \"+ Fore.YELLOW+ Back.BLUE+\"I am your friend\")\n",
    "print(Back.CYAN+\"Hi My name is Prabhudatta Mishra\")\n",
    "print(Fore.RED + Back.GREEN+ \"Hi My name is Prabhudatta Mishra\")"
   ]
  },
  {
   "cell_type": "code",
   "execution_count": null,
   "metadata": {},
   "outputs": [],
   "source": []
  }
 ],
 "metadata": {
  "kernelspec": {
   "display_name": "Python 3",
   "language": "python",
   "name": "python3"
  },
  "language_info": {
   "codemirror_mode": {
    "name": "ipython",
    "version": 3
   },
   "file_extension": ".py",
   "mimetype": "text/x-python",
   "name": "python",
   "nbconvert_exporter": "python",
   "pygments_lexer": "ipython3",
   "version": "3.7.1"
  }
 },
 "nbformat": 4,
 "nbformat_minor": 2
}
