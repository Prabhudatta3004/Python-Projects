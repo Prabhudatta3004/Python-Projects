{
 "cells": [
  {
   "cell_type": "code",
   "execution_count": null,
   "metadata": {},
   "outputs": [
    {
     "name": "stdout",
     "output_type": "stream",
     "text": [
      "rolling the dice.....\n",
      "the value is...\n",
      "2\n",
      "wanna roll again...yes\n",
      "rolling the dice.....\n",
      "the value is...\n",
      "3\n",
      "wanna roll again...YES\n",
      "rolling the dice.....\n",
      "the value is...\n",
      "4\n"
     ]
    }
   ],
   "source": [
    "import random\n",
    "max_value=6\n",
    "min_value=1\n",
    "roll_again='YES'\n",
    "### to roll the dice again\n",
    "while roll_again==\"YES\" or roll_again=='yes':\n",
    "    print(\"rolling the dice.....\")\n",
    "    print(\"the value is...\")\n",
    "    print(random.randint(min_value,max_value))\n",
    "    roll_again=input(\"wanna roll again...\")"
   ]
  },
  {
   "cell_type": "code",
   "execution_count": null,
   "metadata": {},
   "outputs": [],
   "source": []
  }
 ],
 "metadata": {
  "kernelspec": {
   "display_name": "Python 3",
   "language": "python",
   "name": "python3"
  },
  "language_info": {
   "codemirror_mode": {
    "name": "ipython",
    "version": 3
   },
   "file_extension": ".py",
   "mimetype": "text/x-python",
   "name": "python",
   "nbconvert_exporter": "python",
   "pygments_lexer": "ipython3",
   "version": "3.7.1"
  }
 },
 "nbformat": 4,
 "nbformat_minor": 2
}
